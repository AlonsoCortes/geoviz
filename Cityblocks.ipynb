{
 "cells": [
  {
   "cell_type": "code",
   "execution_count": 1,
   "metadata": {
    "ExecuteTime": {
     "end_time": "2017-09-28T04:31:36.851111Z",
     "start_time": "2017-09-28T04:31:35.420589Z"
    },
    "run_control": {
     "marked": false
    }
   },
   "outputs": [
    {
     "ename": "ImportError",
     "evalue": "cannot import name 'tmp'",
     "output_type": "error",
     "traceback": [
      "\u001b[0;31m---------------------------------------------------------------------------\u001b[0m",
      "\u001b[0;31mImportError\u001b[0m                               Traceback (most recent call last)",
      "\u001b[0;32m<ipython-input-1-d0e50d8a786f>\u001b[0m in \u001b[0;36m<module>\u001b[0;34m()\u001b[0m\n\u001b[1;32m      5\u001b[0m \u001b[0;32mimport\u001b[0m \u001b[0mgeopandas\u001b[0m \u001b[0;32mas\u001b[0m \u001b[0mgpd\u001b[0m\u001b[0;34m\u001b[0m\u001b[0m\n\u001b[1;32m      6\u001b[0m \u001b[0;32mfrom\u001b[0m \u001b[0mshapely\u001b[0m\u001b[0;34m.\u001b[0m\u001b[0mgeometry\u001b[0m \u001b[0;32mimport\u001b[0m \u001b[0mMultiPolygon\u001b[0m\u001b[0;34m\u001b[0m\u001b[0m\n\u001b[0;32m----> 7\u001b[0;31m \u001b[0;32mfrom\u001b[0m \u001b[0mlib\u001b[0m\u001b[0;34m.\u001b[0m\u001b[0mcity_blocks\u001b[0m \u001b[0;32mimport\u001b[0m \u001b[0mload_street_graph\u001b[0m\u001b[0;34m,\u001b[0m \u001b[0mremove_deadends\u001b[0m\u001b[0;34m,\u001b[0m \u001b[0mcity_blocks\u001b[0m\u001b[0;34m,\u001b[0m \u001b[0mtmp\u001b[0m\u001b[0;34m\u001b[0m\u001b[0m\n\u001b[0m\u001b[1;32m      8\u001b[0m \u001b[0mget_ipython\u001b[0m\u001b[0;34m(\u001b[0m\u001b[0;34m)\u001b[0m\u001b[0;34m.\u001b[0m\u001b[0mrun_line_magic\u001b[0m\u001b[0;34m(\u001b[0m\u001b[0;34m'matplotlib'\u001b[0m\u001b[0;34m,\u001b[0m \u001b[0;34m'inline'\u001b[0m\u001b[0;34m)\u001b[0m\u001b[0;34m\u001b[0m\u001b[0m\n",
      "\u001b[0;31mImportError\u001b[0m: cannot import name 'tmp'"
     ]
    }
   ],
   "source": [
    "import os\n",
    "from pathlib import Path\n",
    "import numpy as np\n",
    "import osmnx as ox\n",
    "import geopandas as gpd\n",
    "from shapely.geometry import MultiPolygon\n",
    "from lib.city_blocks import load_street_graph, remove_deadends, city_blocks\n",
    "%matplotlib inline  "
   ]
  },
  {
   "cell_type": "markdown",
   "metadata": {},
   "source": [
    "## Intro\n",
    "This is a notebook that shows how to find city blocks from a street graph. The main code used in this notebook is found in `city_blocks.py`"
   ]
  },
  {
   "cell_type": "markdown",
   "metadata": {},
   "source": [
    "## Settings"
   ]
  },
  {
   "cell_type": "code",
   "execution_count": null,
   "metadata": {
    "ExecuteTime": {
     "end_time": "2017-09-28T04:31:36.852982Z",
     "start_time": "2017-09-28T04:31:35.421Z"
    },
    "run_control": {
     "marked": false
    }
   },
   "outputs": [],
   "source": [
    "### Area settings\n",
    "radius = 2500\n",
    "coords_nakano = (35.6059402,139.6664317)\n",
    "network_type = 'drive'\n",
    "\n",
    "### Speed-up settings\n",
    "remove_road_curves = False\n",
    "remove_dead_ends = True\n",
    "cityblock_use_cached = False\n",
    "\n",
    "data_prefix = '{}-{}-{}'.format(coords_nakano, radius, network_type)"
   ]
  },
  {
   "cell_type": "markdown",
   "metadata": {
    "run_control": {
     "marked": false
    }
   },
   "source": [
    "## Load street graph\n",
    "Use cached data if available, otherwise download first and then save to disk.  \n",
    "NOTE: This will take a while if a large radius is used! "
   ]
  },
  {
   "cell_type": "code",
   "execution_count": null,
   "metadata": {
    "ExecuteTime": {
     "end_time": "2017-09-28T04:31:36.854523Z",
     "start_time": "2017-09-28T04:31:35.427Z"
    }
   },
   "outputs": [],
   "source": [
    "street_graph = load_street_graph(coords=coords_nakano, \n",
    "                                 radius=radius, \n",
    "                                 network_type=network_type,\n",
    "                                 filename=data_prefix+'.graphml')"
   ]
  },
  {
   "cell_type": "code",
   "execution_count": null,
   "metadata": {
    "ExecuteTime": {
     "end_time": "2017-09-28T04:31:36.856134Z",
     "start_time": "2017-09-28T04:31:35.430Z"
    },
    "run_control": {
     "marked": false
    }
   },
   "outputs": [],
   "source": [
    "ox.plot_graph(street_graph);"
   ]
  },
  {
   "cell_type": "markdown",
   "metadata": {},
   "source": [
    "## Simplify graph using `osmnx` simplification\n",
    "Removes nodes to join edges that make up road curves. Note that doing this will affect the resulting city blocks. This is can be ammended by a different implementation. "
   ]
  },
  {
   "cell_type": "code",
   "execution_count": null,
   "metadata": {
    "ExecuteTime": {
     "end_time": "2017-09-28T04:31:36.857578Z",
     "start_time": "2017-09-28T04:31:35.435Z"
    }
   },
   "outputs": [],
   "source": [
    "if remove_road_curves:\n",
    "    street_graph = ox.simplify_graph(street_graph)"
   ]
  },
  {
   "cell_type": "code",
   "execution_count": null,
   "metadata": {
    "ExecuteTime": {
     "end_time": "2017-09-28T04:31:36.865717Z",
     "start_time": "2017-09-28T04:31:35.436Z"
    }
   },
   "outputs": [],
   "source": [
    "ox.plot_graph(street_graph);"
   ]
  },
  {
   "cell_type": "markdown",
   "metadata": {},
   "source": [
    "## Simplify graph by removing dead-end roads\n",
    "Removing the dead-end roads does not affect the shape of the city blocks. "
   ]
  },
  {
   "cell_type": "code",
   "execution_count": null,
   "metadata": {
    "ExecuteTime": {
     "end_time": "2017-09-28T04:31:36.877879Z",
     "start_time": "2017-09-28T04:31:35.445Z"
    },
    "scrolled": false
   },
   "outputs": [],
   "source": [
    "if remove_dead_ends:\n",
    "    street_graph = remove_deadends(street_graph)"
   ]
  },
  {
   "cell_type": "markdown",
   "metadata": {},
   "source": [
    "We need to check that there's any street network left after applying our simplifications:"
   ]
  },
  {
   "cell_type": "code",
   "execution_count": null,
   "metadata": {
    "ExecuteTime": {
     "end_time": "2017-09-28T04:31:36.880275Z",
     "start_time": "2017-09-28T04:31:35.447Z"
    }
   },
   "outputs": [],
   "source": [
    "assert len(street_graph) > 0"
   ]
  },
  {
   "cell_type": "code",
   "execution_count": null,
   "metadata": {
    "ExecuteTime": {
     "end_time": "2017-09-28T04:31:36.886733Z",
     "start_time": "2017-09-28T04:31:35.452Z"
    }
   },
   "outputs": [],
   "source": [
    "ox.plot_graph(street_graph);"
   ]
  },
  {
   "cell_type": "markdown",
   "metadata": {},
   "source": [
    "Plotting the simplified graph in folium is handy for inspecting local areas. Slow for large areas. "
   ]
  },
  {
   "cell_type": "code",
   "execution_count": null,
   "metadata": {
    "ExecuteTime": {
     "end_time": "2017-09-28T04:31:36.892689Z",
     "start_time": "2017-09-28T04:31:35.455Z"
    }
   },
   "outputs": [],
   "source": [
    "#ox.plot_graph_folium(street_graph)"
   ]
  },
  {
   "cell_type": "markdown",
   "metadata": {},
   "source": [
    "## Calculate city blocks"
   ]
  },
  {
   "cell_type": "code",
   "execution_count": null,
   "metadata": {
    "ExecuteTime": {
     "end_time": "2017-09-28T04:31:36.895311Z",
     "start_time": "2017-09-28T04:31:35.457Z"
    }
   },
   "outputs": [],
   "source": [
    "blocks = city_blocks(street_graph)"
   ]
  },
  {
   "cell_type": "code",
   "execution_count": null,
   "metadata": {
    "ExecuteTime": {
     "end_time": "2017-09-28T04:31:36.897292Z",
     "start_time": "2017-09-28T04:31:35.458Z"
    }
   },
   "outputs": [],
   "source": [
    "blocks.plot(figsize=(15,15));"
   ]
  },
  {
   "cell_type": "code",
   "execution_count": null,
   "metadata": {
    "ExecuteTime": {
     "end_time": "2017-09-28T04:31:36.898235Z",
     "start_time": "2017-09-28T04:31:35.462Z"
    }
   },
   "outputs": [],
   "source": [
    "print('number of areas: {}'.format(len(blocks)))"
   ]
  },
  {
   "cell_type": "markdown",
   "metadata": {},
   "source": [
    "## Dealing with invalid polygons"
   ]
  },
  {
   "cell_type": "markdown",
   "metadata": {},
   "source": [
    "When calculating city blocks for larger areas, it will often happen that some of the polygons representing the city blocks are invalid. This means that the polygons are complex and have self-intersections. We can deal with this by applying some shapely magic.  \n",
    "\n",
    "First, we find the invalid polygons and plot them."
   ]
  },
  {
   "cell_type": "code",
   "execution_count": null,
   "metadata": {
    "ExecuteTime": {
     "end_time": "2017-09-28T04:31:36.901896Z",
     "start_time": "2017-09-28T04:31:35.465Z"
    },
    "run_control": {
     "marked": false
    }
   },
   "outputs": [],
   "source": [
    "invalid = blocks[blocks.is_valid == False]\n",
    "if not invalid.empty: \n",
    "    invalid.plot(figsize=(10,10))"
   ]
  },
  {
   "cell_type": "markdown",
   "metadata": {},
   "source": [
    "Fix polygons and create second dataframe"
   ]
  },
  {
   "cell_type": "code",
   "execution_count": null,
   "metadata": {
    "ExecuteTime": {
     "end_time": "2017-09-28T04:31:36.903221Z",
     "start_time": "2017-09-28T04:31:35.468Z"
    }
   },
   "outputs": [],
   "source": [
    "fixed = [ ]\n",
    "for _,pol in invalid.geometry.iteritems():\n",
    "    pol = pol.buffer(0)\n",
    "    if isinstance(pol, MultiPolygon):\n",
    "        for p in pol.geoms:\n",
    "            fixed.append(p)\n",
    "    else:\n",
    "        fixed.append(pol)\n",
    "fixed = gpd.GeoDataFrame({'geometry':fixed})\n",
    "       "
   ]
  },
  {
   "cell_type": "raw",
   "metadata": {},
   "source": [
    "Remove the invalid polygons from the dataframe and append fixed polygons"
   ]
  },
  {
   "cell_type": "code",
   "execution_count": null,
   "metadata": {
    "ExecuteTime": {
     "end_time": "2017-09-28T04:31:36.904362Z",
     "start_time": "2017-09-28T04:31:35.484Z"
    }
   },
   "outputs": [],
   "source": [
    "blocks = blocks[blocks.is_valid == True]\n",
    "blocks = blocks.append(fixed)\n",
    "blocks.reset_index(inplace=True, drop=True)"
   ]
  },
  {
   "cell_type": "markdown",
   "metadata": {},
   "source": [
    "And voila!"
   ]
  },
  {
   "cell_type": "code",
   "execution_count": null,
   "metadata": {
    "ExecuteTime": {
     "end_time": "2017-09-28T04:31:36.905686Z",
     "start_time": "2017-09-28T04:31:35.485Z"
    }
   },
   "outputs": [],
   "source": [
    "blocks.plot(figsize=(15,15));"
   ]
  },
  {
   "cell_type": "markdown",
   "metadata": {},
   "source": [
    "## Save areas as GeoJson"
   ]
  },
  {
   "cell_type": "code",
   "execution_count": null,
   "metadata": {
    "ExecuteTime": {
     "end_time": "2017-09-28T04:31:36.907048Z",
     "start_time": "2017-09-28T04:31:35.488Z"
    }
   },
   "outputs": [],
   "source": [
    "geofile = Path(tmp, data_prefix).with_suffix('.geojson')\n",
    "\n",
    "with geofile.open('w') as af: \n",
    "    af.write(blocks.to_json())"
   ]
  },
  {
   "cell_type": "markdown",
   "metadata": {},
   "source": [
    "Geojson file size in MiB:"
   ]
  },
  {
   "cell_type": "code",
   "execution_count": null,
   "metadata": {
    "ExecuteTime": {
     "end_time": "2017-09-28T04:31:36.908422Z",
     "start_time": "2017-09-28T04:31:35.489Z"
    }
   },
   "outputs": [],
   "source": [
    "os.path.getsize(geofile.as_posix())/2**20"
   ]
  }
 ],
 "metadata": {
  "kernelspec": {
   "display_name": "Python 3",
   "language": "python",
   "name": "python3"
  },
  "language_info": {
   "codemirror_mode": {
    "name": "ipython",
    "version": 3
   },
   "file_extension": ".py",
   "mimetype": "text/x-python",
   "name": "python",
   "nbconvert_exporter": "python",
   "pygments_lexer": "ipython3",
   "version": "3.6.2"
  },
  "toc": {
   "colors": {
    "hover_highlight": "#DAA520",
    "running_highlight": "#FF0000",
    "selected_highlight": "#FFD700"
   },
   "moveMenuLeft": true,
   "nav_menu": {
    "height": "66px",
    "width": "252px"
   },
   "navigate_menu": true,
   "number_sections": true,
   "sideBar": true,
   "threshold": 4,
   "toc_cell": false,
   "toc_section_display": "block",
   "toc_window_display": false,
   "widenNotebook": false
  }
 },
 "nbformat": 4,
 "nbformat_minor": 2
}

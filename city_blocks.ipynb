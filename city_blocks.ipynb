{
 "cells": [
  {
   "cell_type": "code",
   "execution_count": null,
   "metadata": {
    "run_control": {
     "marked": false
    }
   },
   "outputs": [],
   "source": [
    "from shapely.geometry import Point, Polygon\n",
    "import geopandas as gpd\n",
    "import osmnx as ox\n",
    "import matplotlib as mpl\n",
    "import networkx as nx\n",
    "import pandas as pd\n",
    "import numpy as np\n",
    "import matplotlib.pyplot as plt\n",
    "import os\n",
    "from os.path import exists, join\n",
    "from descartes import PolygonPatch\n",
    "import folium\n",
    "from tqdm import tqdm, tqdm_pandas\n",
    "from geopy.distance import vincenty\n",
    "from numpy import dot, arccos, sign, cross, degrees\n",
    "from numpy.linalg import norm\n",
    "from tqdm import tqdm, tqdm_pandas\n",
    "tqdm_pandas(tqdm, leave=True)\n",
    "\n",
    "from pathlib import Path\n",
    "from city_blocks import load_street_graph, remove_deadends, city_blocks, tmp\n",
    "%matplotlib inline  \n"
   ]
  },
  {
   "cell_type": "markdown",
   "execution_count": null,
   "metadata": {},
   "source": [
    "# To Do \n",
    "- calculate city block nodes using osmxn simplified graph, then get city block edges from non-simplified graph (original street graph). Using simplified graph will remedy the problem of recursion depth limit, as well as shortening the runtime. Getting the edges from the original graph will give city blocks with a smooth path. \n",
    " - for each vertex in the simplest graph, find the nodes from the original street graph that are part of the vertex\n",
    " "
   ]
  },
  {
   "cell_type": "markdown",
   "execution_count": null,
   "metadata": {},
   "source": [
    "## Settings"
   ]
  },
  {
   "cell_type": "code",
   "execution_count": null,
   "metadata": {
    "run_control": {
     "marked": false
    }
   },
   "outputs": [],
   "source": [
    "### Settings for \n",
    "radius = 500\n",
    "network_type = 'drive'\n",
    "coords_nakano = (35.7059402,139.6664317)\n",
    "\n",
    "\n",
    "\n",
    "### SPEED-UP SETTINGS\n",
    "remove_road_curves = False\n",
    "remove_dead_ends = True\n",
    "cityblock_use_cached = False\n"
   ]
  },
  {
   "cell_type": "markdown",
   "execution_count": null,
   "metadata": {
    "run_control": {
     "marked": false
    }
   },
   "source": [
    "### Load street graph\n",
    "Use cached data if available, otherwise download first and then save to disk"
   ]
  },
  {
   "cell_type": "code",
   "execution_count": null,
   "metadata": {
    "run_control": {
     "marked": false
    }
   },
   "outputs": [],
   "source": [
    "data_prefix = '{}-{}-{}'.format(coords_nakano, radius, network_type)\n",
    "\n",
    "street_graph = load_street_graph(coords=coords_nakano, \n",
    "                                 radius=radius, \n",
    "                                 network_type=network_type,\n",
    "                                 filename=data_prefix+'.graphml')\n",
    "ox.plot_graph(street_graph);"
   ]
  },
  {
   "cell_type": "markdown",
   "execution_count": null,
   "metadata": {},
   "source": [
    "## Simplify graph using `osmnx` simplification\n",
    "Removes nodes to join edges that make up road curves. Note that doing this will affect the resulting city blocks. This is can be ammended by a different implementation. "
   ]
  },
  {
   "cell_type": "code",
   "execution_count": null,
   "metadata": {},
   "outputs": [],
   "source": [
    "if remove_road_curves:\n",
    "    street_graph = ox.simplify_graph(street_graph)"
   ]
  },
  {
   "cell_type": "code",
   "execution_count": null,
   "metadata": {},
   "outputs": [],
   "source": [
    "ox.plot_graph(street_graph);"
   ]
  },
  {
   "cell_type": "markdown",
   "execution_count": null,
   "metadata": {},
   "source": [
    "## Simplify graph by removing dead-end roads\n",
    "Removing the dead-end roads does not affect the shape of the city blocks. "
   ]
  },
  {
   "cell_type": "code",
   "execution_count": null,
   "metadata": {
    "scrolled": false
   },
   "outputs": [],
   "source": [
    "if remove_dead_ends:\n",
    "    street_graph = remove_deadends(street_graph)"
   ]
  },
  {
   "cell_type": "markdown",
   "execution_count": null,
   "metadata": {},
   "source": [
    "We need to check that there's any street network left after applying our simplifications:"
   ]
  },
  {
   "cell_type": "code",
   "execution_count": null,
   "metadata": {},
   "outputs": [],
   "source": [
    "assert len(street_graph) > 0"
   ]
  },
  {
   "cell_type": "code",
   "execution_count": null,
   "metadata": {},
   "outputs": [],
   "source": [
    "ox.plot_graph(street_graph);"
   ]
  },
  {
   "cell_type": "markdown",
   "execution_count": null,
   "metadata": {},
   "source": [
    "## Calculate city blocks"
   ]
  },
  {
   "cell_type": "code",
   "execution_count": null,
   "metadata": {},
   "outputs": [],
   "source": [
    "areas = city_blocks(street_graph)"
   ]
  },
  {
   "cell_type": "code",
   "execution_count": null,
   "metadata": {},
   "outputs": [],
   "source": [
    "areas.plot(figsize=(15,15));"
   ]
  },
  {
   "cell_type": "code",
   "execution_count": null,
   "metadata": {
    "run_control": {
     "marked": false
    }
   },
   "outputs": [],
   "source": [
    "print('number of areas: {}'.format(len(areas)))\n",
    "\n",
    "invalid = areas[areas.is_valid == False]\n",
    "if not invalid.empty: \n",
    "    invalid.plot()"
   ]
  },
  {
   "cell_type": "markdown",
   "execution_count": null,
   "metadata": {},
   "source": [
    "## Dealing with invalid polygons"
   ]
  },
  {
   "cell_type": "markdown",
   "execution_count": null,
   "metadata": {},
   "source": [
    "When calculating city blocks for larger areas, it will often happen that some of the polygons representing the city blocks are invalid. This can be due to self-intersections. "
   ]
  },
  {
   "cell_type": "code",
   "execution_count": null,
   "metadata": {},
   "outputs": [],
   "source": [
    "print('number of areas after removing invalid polygons: {}'.format(len(areas)))\n",
    "\n",
    "areas=areas[areas.geometry.is_valid]\n",
    "areas.reset_index(inplace=True, drop=True)"
   ]
  },
  {
   "cell_type": "markdown",
   "execution_count": null,
   "metadata": {},
   "source": [
    "Find MultiPolygons and extract simple polygons. Then create new dataframe with all polygons."
   ]
  },
  {
   "cell_type": "code",
   "execution_count": null,
   "metadata": {},
   "outputs": [],
   "source": [
    "multi_pol_idx = np.where(areas.geom_type == 'MultiPolygon')[0]\n",
    "extra_pols = gpd.GeoDataFrame(\n",
    "    {'geometry': [p for mp in areas.loc[multi_pol_idx].geometry for p in mp.geoms]})\n",
    "\n",
    "# TO DO: add simple polygons created by splitting multipolygons to areas gdf"
   ]
  },
  {
   "cell_type": "markdown",
   "execution_count": null,
   "metadata": {},
   "source": [
    "## Save areas as GeoJson"
   ]
  },
  {
   "cell_type": "code",
   "execution_count": null,
   "metadata": {},
   "outputs": [],
   "source": [
    "geofile = Path(tmp, data_prefix).with_suffix('.geojson')\n",
    "\n",
    "with geofile.open('w') as af: \n",
    "    af.write(areas.to_json())"
   ]
  },
  {
   "cell_type": "markdown",
   "execution_count": null,
   "metadata": {},
   "source": [
    "Geojson file size in bytes:"
   ]
  },
  {
   "cell_type": "code",
   "execution_count": null,
   "metadata": {},
   "outputs": [],
   "source": [
    "os.path.getsize(geofile.as_posix())"
   ]
  },
  {
   "cell_type": "code",
   "execution_count": null,
   "metadata": {},
   "outputs": [],
   "source": []
  }
 ],
 "metadata": {
  "kernelspec": {
   "display_name": "Python 3",
   "language": "python",
   "name": "python3"
  },
  "language_info": {
   "codemirror_mode": {
    "name": "ipython",
    "version": 3
   },
   "file_extension": ".py",
   "mimetype": "text/x-python",
   "name": "python",
   "nbconvert_exporter": "python",
   "pygments_lexer": "ipython3",
   "version": "3.5.2"
  },
  "toc": {
   "colors": {
    "hover_highlight": "#DAA520",
    "running_highlight": "#FF0000",
    "selected_highlight": "#FFD700"
   },
   "moveMenuLeft": true,
   "nav_menu": {
    "height": "66px",
    "width": "252px"
   },
   "navigate_menu": true,
   "number_sections": true,
   "sideBar": true,
   "threshold": 4,
   "toc_cell": false,
   "toc_section_display": "block",
   "toc_window_display": false,
   "widenNotebook": false
  }
 },
 "nbformat": 4,
 "nbformat_minor": 2
}
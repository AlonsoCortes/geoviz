{
 "cells": [
  {
   "cell_type": "code",
   "execution_count": null,
   "metadata": {},
   "outputs": [],
   "source": [
    "import geopandas as gpd\n",
    "import pandas as pd\n",
    "import numpy as np\n",
    "from branca.colormap import linear\n",
    "from folium.plugins import TimeDynamicGeoJson\n",
    "import folium\n",
    "%matplotlib inline"
   ]
  },
  {
   "cell_type": "code",
   "execution_count": null,
   "metadata": {},
   "outputs": [],
   "source": [
    "assert 'naturalearth_lowres' in gpd.datasets.available\n",
    "datapath = gpd.datasets.get_path('naturalearth_lowres')\n",
    "gdf = gpd.read_file(datapath)"
   ]
  },
  {
   "cell_type": "code",
   "execution_count": null,
   "metadata": {},
   "outputs": [],
   "source": [
    "gdf.plot(figsize=(10,10));"
   ]
  },
  {
   "cell_type": "code",
   "execution_count": null,
   "metadata": {},
   "outputs": [],
   "source": [
    "gdf.head()"
   ]
  },
  {
   "cell_type": "code",
   "execution_count": null,
   "metadata": {},
   "outputs": [],
   "source": [
    "# gdf['id'] = gdf['name'].apply(hash)"
   ]
  },
  {
   "cell_type": "code",
   "execution_count": null,
   "metadata": {},
   "outputs": [],
   "source": [
    "countries = gdf.index"
   ]
  },
  {
   "cell_type": "code",
   "execution_count": null,
   "metadata": {},
   "outputs": [],
   "source": [
    "n_rows = 48\n",
    "n_sample = 40\n",
    "assert n_sample < n_rows\n",
    "dt_index = pd.date_range('2016-1-1', periods = n_rows, freq='M').strftime('%s')\n",
    "max_color, min_color, max_opacity, min_opacity = 0,0,0,0\n",
    "\n",
    "styledata = { }\n",
    "\n",
    "for country in countries: \n",
    "    df = pd.DataFrame({'color': np.random.normal(size=n_rows), \n",
    "                       'opacity': np.random.normal(size=n_rows)},\n",
    "                      index = dt_index)\n",
    "    df = df.cumsum()\n",
    "    df.sample(n_sample, replace=False).sort_index()\n",
    "    styledata[country] = df\n",
    "    \n"
   ]
  },
  {
   "cell_type": "code",
   "execution_count": null,
   "metadata": {},
   "outputs": [],
   "source": [
    "df.plot()"
   ]
  },
  {
   "cell_type": "code",
   "execution_count": null,
   "metadata": {},
   "outputs": [],
   "source": [
    "for country, data in styledata.items():\n",
    "    max_color = max(max_color, data['color'].max())\n",
    "    min_color = min(max_color, data['color'].min())\n",
    "    max_opacity = max(max_color, data['opacity'].max())\n",
    "    max_opacity = min(max_color, data['opacity'].max())"
   ]
  },
  {
   "cell_type": "code",
   "execution_count": null,
   "metadata": {},
   "outputs": [],
   "source": [
    "cmap = linear.OrRd.scale(min_color, max_color)\n",
    "norm = lambda x: (x - x.min())/(x.max()-x.min())\n",
    "for country, data in styledata.items():\n",
    "    data['color'] = data['color'].apply(cmap)\n",
    "    data['opacity'] = norm(data['opacity'])"
   ]
  },
  {
   "cell_type": "code",
   "execution_count": null,
   "metadata": {},
   "outputs": [],
   "source": [
    "# styledict = {str(country_id): data.to_dict(orient='index') for country_id, data in enumerate(styledata.values())}\n",
    "styledict = {str(country): data.to_dict(orient='index') for country, data in styledata.items()}"
   ]
  },
  {
   "cell_type": "code",
   "execution_count": null,
   "metadata": {},
   "outputs": [],
   "source": [
    "m = folium.Map((0,0), tiles='Stamen Toner', zoom_start=2)\n",
    "g = TimeDynamicGeoJson(\n",
    "    gdf.to_json(),\n",
    "    styledict = styledict,\n",
    "    style_function=lambda feature: {\n",
    "        'color': 'white',\n",
    "        'weight': 0.2,\n",
    "        'dashArray': '5, 5',\n",
    "        'fillOpacity': 1,\n",
    "    },\n",
    "    highlight_function=lambda feature: {\n",
    "        'weight': 1,\n",
    "        'color': '#666',\n",
    "        'dashArray': '',\n",
    "        'fillOpacity': 1\n",
    "    }\n",
    ").add_to(m)\n",
    "\n",
    "m.save('timeslider.html')   \n",
    "m"
   ]
  },
  {
   "cell_type": "code",
   "execution_count": null,
   "metadata": {},
   "outputs": [],
   "source": []
  },
  {
   "cell_type": "code",
   "execution_count": null,
   "metadata": {},
   "outputs": [],
   "source": []
  },
  {
   "cell_type": "code",
   "execution_count": null,
   "metadata": {},
   "outputs": [],
   "source": []
  },
  {
   "cell_type": "code",
   "execution_count": null,
   "metadata": {},
   "outputs": [],
   "source": []
  },
  {
   "cell_type": "code",
   "execution_count": null,
   "metadata": {},
   "outputs": [],
   "source": []
  },
  {
   "cell_type": "markdown",
   "execution_count": null,
   "metadata": {},
   "source": [
    "```python\n",
    "styledict = {'japan': {\n",
    "    '2017-1-1': {'color': 'ffffff', 'opacity': 1}\n",
    "    '2017-1-2': {'color': 'fffff0', 'opacity': 1}\n",
    "    ...\n",
    "    }\n",
    "}\n",
    "```"
   ]
  },
  {
   "cell_type": "code",
   "execution_count": null,
   "metadata": {},
   "outputs": [],
   "source": []
  }
 ],
 "metadata": {
  "kernelspec": {
   "display_name": "Python 3",
   "language": "python",
   "name": "python3"
  },
  "language_info": {
   "codemirror_mode": {
    "name": "ipython",
    "version": 3
   },
   "file_extension": ".py",
   "mimetype": "text/x-python",
   "name": "python",
   "nbconvert_exporter": "python",
   "pygments_lexer": "ipython3",
   "version": "3.6.2"
  }
 },
 "nbformat": 4,
 "nbformat_minor": 2
}